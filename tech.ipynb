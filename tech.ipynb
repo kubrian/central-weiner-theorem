{
 "cells": [
  {
   "cell_type": "markdown",
   "metadata": {},
   "source": [
    "## Introduction\n",
    "This document holds tutorials/code demos for easy implementation of more advanced features, such as animation, ..., ??? "
   ]
  },
  {
   "cell_type": "markdown",
   "metadata": {},
   "source": [
    "## Animation\n",
    "The animation of plots via the matplotlib library is explored here.\n",
    "\n",
    "### How to animate\n",
    "\n",
    "The general idea to execute an animation is as follows:\n",
    "* Initialize all plots, and name the ones that will vary during the animation.\n",
    "* Create an animation function that contains the operations needed to get the i-th frame of the animation.\n",
    "    * From the named plots, call a set_data function to specify the data to be plotted in the i-th frame of the animation.\n",
    "* Use the FuncAnimation function to create the animation (matplotlib.animation)\n",
    "* Save the animation to desired format (animation.save())\n",
    "\n",
    "### What to animate\n",
    "Matplotlib is meant for single plots, thus transition between different plots is not feasible using matplotlib library. Animating a graph is tied to the idea of change with respect to time, yet some graphs need not be animated as a static plot conveys the same information.\n",
    "\n",
    "As a general principle, animate if:\n",
    "* It makes sense for the system to be expressed in the form x(t) and y(t) (and z(t)).\n",
    "    * Example: Simulations of physical systems, observing how they evolve over time \n",
    "\n",
    "Animation may not be helpful if:\n",
    "* y or x is t, then a line or scatter plot conveys the same idea\n",
    "* Presenting summary statistic, where the time evolution does not matter\n",
    "* x and y are linked by constraints that are independent of time."
   ]
  },
  {
   "cell_type": "code",
   "execution_count": 1,
   "metadata": {},
   "outputs": [
    {
     "data": {
      "image/png": "[encoded data removed]",
      "text/plain": [
       "<Figure size 360x360 with 1 Axes>"
      ]
     },
     "metadata": {
      "needs_background": "light"
     },
     "output_type": "display_data"
    }
   ],
   "source": [
    "# Imports\n",
    "import numpy as np\n",
    "import matplotlib.pyplot as plt\n",
    "from matplotlib.animation import FuncAnimation, PillowWriter\n",
    "\n",
    "# Data\n",
    "t = np.linspace(0, 10, num=100)\n",
    "x = t*np.cos(t)\n",
    "y = t*np.sin(t)\n",
    "\n",
    "# Initialize\n",
    "fig, ax = plt.subplots(figsize=(5,5))\n",
    "\n",
    "# Example of static plot -- won't change throughout animation, thus no need to save name.\n",
    "ax.scatter([0], [0], label='origin')\n",
    "\n",
    "# The main plot will change throughout animation, so create a container for it\n",
    "line1, = ax.plot([], [], '-r', label='path', lw=1)\n",
    "point1, = ax.plot([], [], 'or', label='point')\n",
    "\n",
    "# Customize\n",
    "ax.legend(loc='upper right')\n",
    "ax.set_title('Spiraling out of control')\n",
    "\n",
    "ax.axis('equal')\n",
    "ax.set(xlim=(-10,10),ylim=(-10,10))\n",
    "\n",
    "# Animate Frame\n",
    "def animate_frame(i):\n",
    "    '''\n",
    "    Defines what the i-th frame of animation should have.\n",
    "\n",
    "    Parameters\n",
    "    ----------\n",
    "    i: Specifies the frame of animation\n",
    "\n",
    "    Returns\n",
    "    -------\n",
    "    List of plot elements that need to be updated\n",
    "    '''\n",
    "    # Line from 0 to i-th (inclusive) data point, and a point for the i-th data point\n",
    "    line1.set_data(x[:i+1],y[:i+1])\n",
    "    point1.set_data(x[i],y[i])\n",
    "\n",
    "    return line1,point1\n",
    "\n",
    "# Show\n",
    "\n",
    "# blit=True optimizes the graphing process by only redrawing the changes.\n",
    "# It does so using the return values of animate.\n",
    "# Therefore, animate_frame returns the list of objects need updating.\n",
    "ani = FuncAnimation(fig,animate_frame,blit=True,frames=len(t))\n",
    "\n",
    "# In particular, gifs outputs are not rendered for .ipynb, so saving and redirecting to output should be used instead.\n",
    "# Uncomment this to actually save stuff.\n",
    "# ani.save(\"bin\\\\animation_example.gif\",writer=PillowWriter(fps=30),dpi=200) "
   ]
  }
 ],
 "metadata": {
  "interpreter": {
   "hash": "e0d091042142f08f95fbe24eea5f30d9f84a0503ed0a5ab9d4f63f212faef8cd"
  },
  "kernelspec": {
   "display_name": "Python 3.10.1 64-bit",
   "language": "python",
   "name": "python3"
  },
  "language_info": {
   "codemirror_mode": {
    "name": "ipython",
    "version": 3
   },
   "file_extension": ".py",
   "mimetype": "text/x-python",
   "name": "python",
   "nbconvert_exporter": "python",
   "pygments_lexer": "ipython3",
   "version": "3.10.1"
  },
  "orig_nbformat": 4
 },
 "nbformat": 4,
 "nbformat_minor": 2
}
