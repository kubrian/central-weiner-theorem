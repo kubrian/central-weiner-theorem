{
 "cells": [
  {
   "cell_type": "markdown",
   "metadata": {},
   "source": [
    "# Applications of Central Limit Theorem\n",
    "Michelle Yaochai | Zheng Chong, Emily | Marvin Dragon Choo | Brian Ku\\\n",
    "01 Apr 2022"
   ]
  },
  {
   "cell_type": "markdown",
   "metadata": {},
   "source": [
    "## Introduction\n",
    "We explore the central limit theorem (CLT) and their applications in this notebook.\n",
    "\n",
    "* In Part A, we define and illustrate CLT using examples such as coin flips and rolling a fair dice. We also show how to use CLT to calculate population parameters from samples, as well as situations where CLT fails.\n",
    "* In Part B, we demonstrate the utility of CLT by simulating various physical systems, and validating key parameters against those predicted by CLT, and use it to calculate physical properties such as diffusion coefficients, ..."
   ]
  },
  {
   "cell_type": "markdown",
   "metadata": {},
   "source": [
    "The following modules will be used in this notebook, each of which will be introduced as they are used."
   ]
  },
  {
   "cell_type": "code",
   "execution_count": 158,
   "metadata": {},
   "outputs": [],
   "source": [
    "# Importing all necessary libraries\n",
    "import numpy as np\n",
    "import matplotlib.pyplot as plt\n",
    "\n",
    "from matplotlib.animation import FuncAnimation, PillowWriter"
   ]
  },
  {
   "cell_type": "markdown",
   "metadata": {},
   "source": [
    "## Part A: Illustration\n",
    "\n",
    "### Motivation (TODO)\n",
    "first of all, def need to add where clt is used before definition. like clt is a concept found in statistics/statistical analysis when we have a population (defined) and we are trying to measure a characteristic of it. For example, in the population of CHS students, we want to see what the distribution of GPA? /height is like. Thus, we carry out a probability sample. \n",
    "\n",
    "...... then the fact that if you take enough probability samples and plot the sum of results in each sample, the distribution would always look sth like this [insert perfect histogram], where the mean, median and mode are in the center. this is a normal distribution and .... segue into clt definition\n",
    "\n",
    "### Definition\n",
    "Here, we give a common definition of Central Limit Theorem (CLT):\n",
    "\n",
    "> The distribution of sample means approximates a normal distribution as the sample size gets larger, even if the population is not normally distributed.\n",
    "\n",
    "This definition is certainly not the most mathematically rigorous, but is sufficient for the scope of the project. There are also additional restrictions necessary for CLT, and they will be introduced as appropriate.\n",
    "\n",
    "We now illustrate the assertion that CLT is trying to make using coin flips. Consider the act of flipping a fair coin.\n",
    "* Since the coin is fair, there is an equal probability $p=0.5$ of it landing on heads or tails.\n",
    "* Assign the outcome of tails as 0, and heads as 1.\n",
    "\n",
    "This system is equivalently represented by a binomial distribution (since there are only two outcomes) with probability of success (of getting heads) of 0.5.\n",
    "\n",
    "To begin, let's see what happens when we flip the coin 100 times. Since this is a binomial distribution, we can make use of ```numpy.random.binomial``` to simulate these coin flips."
   ]
  },
  {
   "cell_type": "code",
   "execution_count": 159,
   "metadata": {},
   "outputs": [
    {
     "name": "stdout",
     "output_type": "stream",
     "text": [
      "Out of 100 coin flips, there were 61 heads and 39 tails.\n"
     ]
    },
    {
     "data": {
      "image/png": "[encoded data removed]",
      "text/plain": [
       "<Figure size 432x288 with 1 Axes>"
      ]
     },
     "metadata": {
      "needs_background": "light"
     },
     "output_type": "display_data"
    }
   ],
   "source": [
    "n = 100\n",
    "p = 0.5\n",
    "\n",
    "# Labels\n",
    "flip_outcomes = ['Tail', 'Head']\n",
    "\n",
    "# Data\n",
    "# Count the number of heads after flipping a coin n times, each with probability p of landing on heads.\n",
    "num_heads = np.random.binomial(n=n,p=p)\n",
    "# \n",
    "num_tails = n - num_heads\n",
    "\n",
    "# Show outcome\n",
    "print(f'Out of {n} coin flips, there were {num_heads} heads and {num_tails} tails.')\n",
    "\n",
    "# Plot\n",
    "# Expected\n",
    "plt.bar(flip_outcomes, [num_tails/n, num_heads/n], width=0.25, label='Actual')\n",
    "# Actual\n",
    "plt.hlines(y=0.5, xmin=-0.6, xmax=1.6, linestyles='--',\n",
    "           colors='red', label='Expected')\n",
    "\n",
    "# Customize and Show\n",
    "plt.xlim([-0.5, 1.5])\n",
    "plt.title(f'Outcome of {n} dice flips')\n",
    "plt.legend(loc='lower center')\n",
    "plt.tight_layout()\n",
    "plt.show()\n"
   ]
  },
  {
   "cell_type": "markdown",
   "metadata": {},
   "source": [
    "If asked to predict the number of heads, it is probably *instinctive* to expect 50 of each, after all, we expect an equal number of heads and tails.\n",
    "\n",
    "Most of the time, we get a number that *feels* close to, but not exactly 50. Try running the above cell multiple times! Here, we take this opportunity to explain more key terms.\n",
    "\n",
    "* Each time you execute the cell, you generate one **sample** of 100 coin flips.\n",
    "* The **sample size $n$** is the number of independent coin flips that were performed. Here, it is 100.\n",
    "* The direct output of each sample, which is a number between 0 and 100, is the total number of heads in that sample.\n",
    "\n",
    "### Sampling Distribution\n",
    "Now that you've run the cell multiple times, you can see that each time you run it, you get a different result. Even though the coin is the same, there is still some variability between the different samples collected from this 'population'.\n",
    "\n",
    "Yet, it is not equally likely to obtain each outcome. Using a sample size of 100, it *feels* more probable to observe a sample with 40 heads, than that of 10 heads, which feels more extreme. We can visualize this probability by simulating many independent samples, and observing the distribution of the number of heads, using a histogram.\n",
    "* This is what *'distribution of sample means'* in the definition of CLT is referring to.\n",
    "\n",
    "Surprisingly, generating this data can be done in one line of code, again using ```numpy.random.binomial```. In particular, we vary the sample sizes and observe the impact on the subsequent distribution."
   ]
  },
  {
   "cell_type": "code",
   "execution_count": 164,
   "metadata": {},
   "outputs": [
    {
     "data": {
      "image/png": "[encoded data removed]",
      "text/plain": [
       "<Figure size 864x288 with 4 Axes>"
      ]
     },
     "metadata": {
      "needs_background": "light"
     },
     "output_type": "display_data"
    }
   ],
   "source": [
    "# Individual sample sizes to test\n",
    "n = [3, 15, 30, 50]\n",
    "# Fair coin, equal chance of heads and tails\n",
    "p = 0.5\n",
    "# Generate 2000 independent samples\n",
    "s = 2000\n",
    "\n",
    "# Data\n",
    "flip_distribution = [np.random.binomial(i, p, s) for i in n]\n",
    "fig, ax = plt.subplots(ncols=len(n), figsize=(3*len(n), 4))\n",
    "\n",
    "# Making good histograms\n",
    "for i, dist in enumerate(flip_distribution):\n",
    "    min_value = min(dist)\n",
    "    max_value = max(dist)\n",
    "\n",
    "    # Max ensures that step sizes in the following histogram are at least 1, but otherwise such that there will be around 30 bins\n",
    "    step_size = max((max_value-min_value)//30, 1)\n",
    "    # n+2 ensures the outcome with all heads is also captured.\n",
    "    bin_range = range(0,n[i]+2, step_size)\n",
    "\n",
    "    # Plot histogram and customize\n",
    "    ax[i].hist(dist, bins=bin_range)\n",
    "    ax[i].set_xlabel('Heads')\n",
    "    ax[i].set_ylabel('Frequency')\n",
    "    ax[i].set_title(f'$n$ = {n[i]}')\n",
    "plt.tight_layout()\n",
    "plt.show()"
   ]
  },
  {
   "cell_type": "markdown",
   "metadata": {},
   "source": [
    "Restating CLT from above, we can quite clearly observe that:\n",
    "> The *distribution of sample means* approximates a normal distribution *as the sample size gets larger*, even if the population is not normally distributed.\n",
    "\n",
    "* In particular, the 'distribution of population' here is the distribution of the probability of the outcomes of coin flip - 0.5 for heads and tails, certainly not normally distributed.\n",
    "\n",
    "### CLT conditions\n",
    "In practice, we impose some further conditions before using CLT, to account for more extreme probability distribution functions. We will summarise the conditions necessary for CLT to hold true:\n",
    "\n",
    "* The data must be sampled randomly from the population by using a probability sampling method.\n",
    "* Each of the sample values must be independent of each other. That is, the occurrence of one event does not affect the occurrence of any other event.\n",
    "* When the sample is drawn without replacement, the sample size must be no larger than 10% of the total population.\n",
    "* Sample sizes equal to or greater than 30 are often considered sufficient for the CLT to hold.\n",
    "\n",
    "If all these conditions are fulfilled, then, by the central limit theorem, the sampling distribution obtained will represent a normal distribution, regardless whether the variable actually follows a normal distribution in the population. (eg. In Asia, people's heights are skewed towards the shorter end.)"
   ]
  },
  {
   "cell_type": "markdown",
   "metadata": {},
   "source": [
    "## Direct Application\n",
    "We can now easily control the conditions of sampling to generate a normal distribution. To turn CLT into a useful tool, we need to establish a link between the sample statistics and population statistics.\n",
    "\n",
    "Let $X$ represent the distribution of number of heads (i.e. what we have been plotting), then:\n",
    "$$\\mu = \\bar{X}/n$$\n",
    "where $\\bar{X}$ is mean number of heads, and $\\mu$ is the expected number of heads for a flip.\n",
    "$$\\sigma^2 = Var(X)/n$$\n",
    "where $Var(X)$ is the variance of the number of heads, and $\\sigma^2$ is the expected variance in the number of heads per flip. The derivation is well established,  mathematical in nature and beyond the scope of this project.\n",
    "\n",
    "The mean and variance of the fair coin is given by:\n",
    "$$\\mu = 0.5(0) + 0.5(1) = 0.5$$\n",
    "$$\\sigma^2 = 0.5 (1-0.5)^2 + 0.5 (0-0.5)^2 = 0.25$$\n",
    "\n",
    "We compare these against the values generated from the above distribution, and see a close agreement."
   ]
  },
  {
   "cell_type": "code",
   "execution_count": 161,
   "metadata": {},
   "outputs": [
    {
     "name": "stdout",
     "output_type": "stream",
     "text": [
      "n=3: mean/n=0.498, var/n=0.242\n",
      "n=15: mean/n=0.496, var/n=0.237\n",
      "n=30: mean/n=0.504, var/n=0.257\n",
      "n=50: mean/n=0.501, var/n=0.249\n"
     ]
    }
   ],
   "source": [
    "for i, dist in enumerate(flip_distribution):\n",
    "    print(f'n={n[i]}: mean/n={(np.mean(dist)/n[i]).round(3)}, var/n={(np.var(dist)/n[i]).round(3)}')"
   ]
  },
  {
   "cell_type": "markdown",
   "metadata": {},
   "source": [
    "Random dice roll, N sided fair dice."
   ]
  },
  {
   "cell_type": "code",
   "execution_count": 181,
   "metadata": {},
   "outputs": [
    {
     "data": {
      "image/png": "[encoded data removed]",
      "text/plain": [
       "<Figure size 432x288 with 1 Axes>"
      ]
     },
     "metadata": {
      "needs_background": "light"
     },
     "output_type": "display_data"
    }
   ],
   "source": [
    "\n",
    "def plot_N_sided_dice(sides = 6, size = 30, samples = 1000):\n",
    "    # List of sample means (sample size as specified) of n-sided dice rolls\n",
    "    dice_mean_dist =  [np.mean(np.random.randint(1, sides+1, size)) for i in range(samples)]\n",
    "    plt.hist(dice_mean_dist)\n",
    "    plt.title(f'{sides}-sided dice. {samples} samples, sample size {size}')\n",
    "    plt.show()\n",
    "\n",
    "plot_N_sided_dice()"
   ]
  },
  {
   "cell_type": "markdown",
   "metadata": {},
   "source": [
    "## Part B: Demonstration"
   ]
  },
  {
   "cell_type": "markdown",
   "metadata": {},
   "source": [
    "Random Walk\n",
    "1D Random Walk\n",
    "* In a simple one-dimentional random walk, an object at the origin along a linear axis can either move a distance of +1 or -1 with equal probability. This will be called a step. When the object moves N number of steps, assuming that the steps are independent N is large enough, the probability distribution of the object's position approaches a Normal distribution."
   ]
  },
  {
   "cell_type": "code",
   "execution_count": 240,
   "metadata": {},
   "outputs": [
    {
     "data": {
      "image/png": "[encoded data removed]",
      "text/plain": [
       "<Figure size 864x216 with 3 Axes>"
      ]
     },
     "metadata": {
      "needs_background": "light"
     },
     "output_type": "display_data"
    }
   ],
   "source": [
    "def next_pos(prev_pos):\n",
    "    return prev_pos + np.random.choice([-1, 1])\n",
    "\n",
    "\n",
    "def random_walk_1D(steps=100):\n",
    "    pos_list = [0]\n",
    "    for _ in range(steps):\n",
    "        pos_list.append(next_pos(pos_list[-1]))\n",
    "    return np.array(pos_list)\n",
    "\n",
    "\n",
    "def random_walk_ND(steps=100, n=2):\n",
    "    # ND walk = N*1D walk -- independence across dimensions\n",
    "    # Access via arr[dim][time]\n",
    "    return np.array([random_walk_1D(steps) for _ in range(n)])\n",
    "\n",
    "\n",
    "def ND_walk_displacement(steps=100, n=2, samples=1000):\n",
    "    # Take specified samples, for each of them, take the position at last step of each dimension\n",
    "    # Access via arr[sample,dim]\n",
    "    return np.array([random_walk_ND(steps, n)[:, -1] for _ in range(samples)])\n",
    "\n",
    "\n",
    "# Data\n",
    "n = 3\n",
    "ND_walk_pos = ND_walk_displacement(n=n, samples=500)\n",
    "\n",
    "# Plot ND distribution\n",
    "fig, ax = plt.subplots(ncols=n, figsize=(4*n, 3))\n",
    "for i in range(n):\n",
    "    ax[i].hist(ND_walk_pos[:, i])\n",
    "    ax[i].set_title(f'Final pos in dimension {i}')\n",
    "plt.show()"
   ]
  },
  {
   "cell_type": "code",
   "execution_count": null,
   "metadata": {},
   "outputs": [],
   "source": []
  }
 ],
 "metadata": {
  "interpreter": {
   "hash": "e0d091042142f08f95fbe24eea5f30d9f84a0503ed0a5ab9d4f63f212faef8cd"
  },
  "kernelspec": {
   "display_name": "Python 3.10.1 64-bit",
   "language": "python",
   "name": "python3"
  },
  "language_info": {
   "codemirror_mode": {
    "name": "ipython",
    "version": 3
   },
   "file_extension": ".py",
   "mimetype": "text/x-python",
   "name": "python",
   "nbconvert_exporter": "python",
   "pygments_lexer": "ipython3",
   "version": "3.10.1"
  },
  "orig_nbformat": 4
 },
 "nbformat": 4,
 "nbformat_minor": 2
}
