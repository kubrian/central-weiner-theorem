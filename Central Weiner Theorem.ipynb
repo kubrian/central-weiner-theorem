{
 "cells": [
  {
   "cell_type": "markdown",
   "metadata": {},
   "source": [
    "## (Clickbait Title)\n",
    "Michelle Yaochai, Emily Zheng, Marvin Dragon Choo, Brian Ku \\\n",
    "(Date)"
   ]
  },
  {
   "cell_type": "markdown",
   "metadata": {},
   "source": [
    "#### Notes/TODO (Remove in final version)\n",
    "* (Brian) I intend for all parts to be seperated by concept and code -- i.e. One should be able to only run code from one section and still work error free."
   ]
  },
  {
   "cell_type": "markdown",
   "metadata": {},
   "source": [
    "## Introduction\n",
    "\n",
    "Central Limit Theorem (CLT) is ....\n",
    "\n",
    "CLT allows us to ....\n",
    "\n",
    "This notebook is split into a few parts.\n",
    "\n",
    "* In Part A, we illustrate CLT and show that it works on any arbitrary distribution, and calculate some useful parameters\n",
    "  * Failure when infinite variance/undefined mean\n",
    "* In Part B, we demonstrate the utility of CLT by simulating various physical systems, and validating key parameters against those predicted by CLT, and use it to calculate physical properties such as diffusion coefficients, ...\n",
    "* In ... (TODO)"
   ]
  },
  {
   "cell_type": "markdown",
   "metadata": {},
   "source": [
    "## Part A: Illustration"
   ]
  },
  {
   "cell_type": "markdown",
   "metadata": {},
   "source": [
    "## Part B: Demonstration"
   ]
  }
 ],
 "metadata": {
  "language_info": {
   "name": "python"
  },
  "orig_nbformat": 4
 },
 "nbformat": 4,
 "nbformat_minor": 2
}
