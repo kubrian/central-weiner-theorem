{
 "cells": [
  {
   "cell_type": "markdown",
   "metadata": {},
   "source": [
    "## (Clickbait Title)\n",
    "Michelle Yaochai | Zheng Chong, Emily | Marvin Dragon Choo | Brian Ku \\\n",
    "(Date)"
   ]
  },
  {
   "cell_type": "code",
   "execution_count": 2,
   "metadata": {},
   "outputs": [],
   "source": [
    "# Importing all necessary libraries\n",
    "import numpy as np\n",
    "from matplotlib import pyplot as plt\n",
    "# import random"
   ]
  },
  {
   "cell_type": "markdown",
   "metadata": {},
   "source": [
    "## Introduction\n",
    "\n",
    "Central Limit Theorem (CLT) is ....\n",
    "\n",
    "CLT allows us to ....\n",
    "\n",
    "This notebook is split into a few parts.\n",
    "\n",
    "* In Part A, we illustrate CLT and show that it works on any arbitrary distribution, and calculate some useful parameters\n",
    "  * Scoping to also illustrate the cases where it fails, such as when pdf has infinite variance/undefined mean\n",
    "* In Part B, we demonstrate the utility of CLT by simulating various physical systems, and validating key parameters against those predicted by CLT, and use it to calculate physical properties such as diffusion coefficients, ...\n",
    "* In ... (TODO)"
   ]
  },
  {
   "cell_type": "markdown",
   "metadata": {},
   "source": [
    "## Part A: Illustration"
   ]
  },
  {
   "cell_type": "markdown",
   "metadata": {},
   "source": [
    "TODO: Paraphrase\n",
    "\n",
    "The central limit theorem (CLT) states that the distribution of sample means approximates a normal distribution as the sample size gets larger, regardless of the population's distribution.\n",
    "\n",
    "Sample sizes equal to or greater than 30 are often considered sufficient for the CLT to hold.\n",
    "\n",
    "A key aspect of CLT is that the average of the sample means and standard deviations will equal the population mean and standard deviation.\n",
    "\n",
    "A sufficiently large sample size can predict the characteristics of a population more accurately.\n",
    "\n",
    "explain all the rules"
   ]
  },
  {
   "cell_type": "markdown",
   "metadata": {},
   "source": [
    "## Illustrating CLT using Python"
   ]
  },
  {
   "cell_type": "markdown",
   "metadata": {},
   "source": [
    "### Coin Flips\n"
   ]
  },
  {
   "cell_type": "markdown",
   "metadata": {},
   "source": [
    "ok so basically for coin flips using a fair coin, the probability density of landing on heads or tails can be calculated using the binomial equation below:"
   ]
  },
  {
   "attachments": {
    "image.png": {
     "image/png": "[encoded data removed]"
    }
   },
   "cell_type": "markdown",
   "metadata": {},
   "source": [
    "![image.png](attachment:image.png)"
   ]
  },
  {
   "cell_type": "markdown",
   "metadata": {},
   "source": [
    "where p is the probability, n is the number of trials ran, and N is the number of successes. \n",
    "\n",
    "From this, we can see that we need to assign two variables, n and p. For the purpose of this simulation, \n",
    "p = 0.5, since we're using a fair coin, there is equal (0.5) chance of the coin landing on either side\n",
    "n = 10, 10 bins in a histogram is a nice number\n",
    "\n",
    "in order for the results to make sense, we need to assign a value to the sides. so in this notebook, all 1s will represent heads and all 0s will represent tails!"
   ]
  },
  {
   "cell_type": "markdown",
   "metadata": {},
   "source": [
    "#### Here we will generate one sample of carrying out 10 coin flips\n",
    "feel free to run this code repeatedly to see how the results of each coin flip in the sample changes every time. This demonstrates the random behavior of the 'coin' and are examples of what will be in the 100 samples in the next section."
   ]
  },
  {
   "cell_type": "code",
   "execution_count": 5,
   "metadata": {},
   "outputs": [
    {
     "name": "stdout",
     "output_type": "stream",
     "text": [
      "[0, 0, 0, 1, 1, 1, 0, 1, 1, 1]\n",
      "Out of 10 coin flips, 6 were heads!\n",
      "Out of 10 coin flips, 4 were tails!\n"
     ]
    }
   ],
   "source": [
    "# assign values as stated above\n",
    "p = 0.5\n",
    "n = 10\n",
    "\n",
    "# array pouch to drop the results of the trials into\n",
    "flip_results = []\n",
    "\n",
    "# creating the coinflip function\n",
    "def coinflip(p):\n",
    "    result = np.random.binomial(1,p) \n",
    "    # returns 0 or 1. p is in the interval [0,1] \n",
    "    # and represents the probability of the function returning a 1\n",
    "    return result\n",
    "\n",
    "# carrying out n number of flips and storing their results\n",
    "for i in range(n):\n",
    "    flip_results.append(coinflip(p))\n",
    "\n",
    "# checking the results of the flips! \n",
    "print(flip_results)\n",
    "\n",
    "# in order to plot the samples later, \n",
    "# we need to quantify the results of each sample\n",
    "# so, let's count how many heads (1) there are in the results!\n",
    "num_heads = sum(flip_results) # since the heads are represented by 1 and tails by 0, the sum of the list gives us the number of successes!\n",
    "print(f\"Out of 10 coin flips, {num_heads} were heads!\")\n",
    "\n",
    "# since there are only 2 results, taking the total and minusing the number of heads gives us the number of tails\n",
    "num_tails = n - num_heads\n",
    "print(f\"Out of 10 coin flips, {num_tails} were tails!\")"
   ]
  },
  {
   "cell_type": "markdown",
   "metadata": {},
   "source": [
    "#### Here we will generate 100 samples and plot them\n",
    "coin flip experimental set-up taken from https://statmagic.info/Tutorials/intro-part-3.html"
   ]
  },
  {
   "cell_type": "code",
   "execution_count": null,
   "metadata": {},
   "outputs": [],
   "source": [
    "# TODO redo this"
   ]
  },
  {
   "cell_type": "markdown",
   "metadata": {},
   "source": [
    "If you've gotten bored of just reading, here's your chance! We would like to demonstrate that the more samples you have, the more your distribution will represent a normal distribution. We just need your help in changing the value of s to anything you would like, and rerunning the cell. Try using 10, 100, 1000, 10000. Do you see the difference? \n",
    "\n",
    "[break for you to try the ^^]\n",
    "\n",
    "Now that you've played around with the values, I'm sure you've seen how when s=10, the histogram barely looks anything like a hill, while at 10000, the histogram Always shows normal distribution. "
   ]
  },
  {
   "cell_type": "code",
   "execution_count": null,
   "metadata": {},
   "outputs": [
    {
     "data": {
      "text/plain": [
       "(array([  1.,  13.,  41., 121., 195., 244., 202., 124.,  47.,  10.,   2.]),\n",
       " array([ 0,  1,  2,  3,  4,  5,  6,  7,  8,  9, 10, 11]),\n",
       " <BarContainer object of 11 artists>)"
      ]
     },
     "metadata": {},
     "output_type": "display_data"
    },
    {
     "data": {
      "image/png": "[encoded data removed]",
      "text/plain": [
       "<Figure size 432x288 with 1 Axes>"
      ]
     },
     "metadata": {},
     "output_type": "display_data"
    }
   ],
   "source": [
    "# ok now we've seen it, it's time to do it large-scale.\n",
    "# creating a pouch to hold all our results\n",
    "all_results = []\n",
    "\n",
    "# assign values as stated above (putting it here makes it easier to check & change)\n",
    "p = 0.5 # probability\n",
    "n = 10 # number of coin flips per sample\n",
    "s = 1000 # number of samples\n",
    "\n",
    "# creating the coinflip function\n",
    "def coinflip(p):\n",
    "    result = np.random.binomial(1,p) \n",
    "    # returns 0 or 1. p is in the interval [0,1] \n",
    "    # and represents the probability of the function returning a 1\n",
    "    return result\n",
    "\n",
    "for j in range(s): # running through s number of samples\n",
    "    for i in range(n): # doing n coin flips for each sample\n",
    "        if i==0:\n",
    "            all_results.append([]) # making a new sample pouch\n",
    "        \n",
    "        all_results[j].append(coinflip(p))\n",
    "\n",
    "# counting the number of heads for each sample\n",
    "samples_heads = [] # creating a pouch to hold all the counts\n",
    "for j in range(s):\n",
    "    num_heads = sum(all_results[j])\n",
    "    samples_heads.append(num_heads)\n",
    "\n",
    "# these are the number of heads you would get tossing a coin 10 times, if you experimented with it 100 times\n",
    "#print(samples_heads) \n",
    "\n",
    "#presenting distribution in histogram\n",
    "plt.hist(samples_heads, bins = [0, 1, 2, 3, 4, 5, 6, 7, 8, 9, 10, 11])"
   ]
  },
  {
   "cell_type": "markdown",
   "metadata": {},
   "source": [
    "If you've gotten bored of just reading, here's your chance! We would like to demonstrate that the more samples you have, the more your distribution will represent a normal distribution. We just need your help in changing the value of s to anything you would like, and rerunning the cell. Try using 10, 100, 1000, 10000. Do you see the difference? \n",
    "\n",
    "[break for you to try the ^^]\n",
    "\n",
    "Now that you've played around with the values, I'm sure you've seen how when s=10, the histogram barely looks anything like a hill, while at 10000, the histogram Always shows normal distribution. "
   ]
  },
  {
   "cell_type": "markdown",
   "metadata": {},
   "source": [
    "### Dice Rolls"
   ]
  },
  {
   "cell_type": "markdown",
   "metadata": {},
   "source": [
    "another difference is that we now have 6 sides so now we need to generate any number from 1 to 6. we're going to do this with the random function"
   ]
  },
  {
   "cell_type": "code",
   "execution_count": null,
   "metadata": {},
   "outputs": [
    {
     "data": {
      "text/plain": [
       "(array([   7.,   37.,  203.,  563., 1231., 1900., 2202., 1877., 1198.,\n",
       "         548.,  186.,   48.]),\n",
       " array([16., 19., 22., 25., 28., 31., 34., 37., 40., 43., 46., 49., 52.]),\n",
       " <BarContainer object of 12 artists>)"
      ]
     },
     "metadata": {},
     "output_type": "display_data"
    },
    {
     "data": {
      "image/png": "[encoded data removed]",
      "text/plain": [
       "<Figure size 432x288 with 1 Axes>"
      ]
     },
     "metadata": {},
     "output_type": "display_data"
    }
   ],
   "source": [
    "# ok now we've seen it, it's time to do it large-scale.\n",
    "# creating a pouch to hold the results of all our rolls\n",
    "all_rolls = []\n",
    "\n",
    "# assign values as stated above (putting it here makes it easier to check & change)\n",
    "n = 10 # number of dice rolls per sample\n",
    "s = 10000 # number of samples\n",
    "\n",
    "# creating the dice roll function\n",
    "def diceroll():\n",
    "    result = random.randint(1,6) \n",
    "    # taken from https://medium.com/an-amygdala/how-to-simulate-a-dice-roll-and-guess-the-result-in-python-9785079af6f3#:~:text=Use%20Python's%20random%20module%20to,be%20imported%20into%20your%20IDE.\n",
    "    # returns any integer between 1 and 6, including 1 and 6\n",
    "    return result\n",
    "\n",
    "for j in range(s): # running through s number of samples\n",
    "    for i in range(n): # doing n dice rolls for each sample\n",
    "        if i==0:\n",
    "            all_rolls.append([]) # making a new sample pouch\n",
    "        \n",
    "        all_rolls[j].append(diceroll())\n",
    "\n",
    "# calculting the sum of the dice roll results for each sample\n",
    "samples_rolls = [] # creating a pouch to hold all the sums\n",
    "for j in range(s):\n",
    "    sum_roll = sum(all_rolls[j])\n",
    "    samples_rolls.append(sum_roll)\n",
    "\n",
    "#presenting distribution in histogram\n",
    "plt.hist(samples_rolls, bins = 12)"
   ]
  },
  {
   "cell_type": "markdown",
   "metadata": {},
   "source": [
    "## Part B: Demonstration"
   ]
  },
  {
   "cell_type": "markdown",
   "metadata": {},
   "source": [
    "Random Walk\n",
    "1D Random Walk\n",
    "* In a simple one-dimentional random walk, an object at the origin along a linear axis can either move a distance of +1 or -1 with equal probability. This will be called a step. When the object moves N number of steps, assuming that the steps are independent N is large enough, the probability distribution of the object's position approaches a Normal distribution."
   ]
  }
 ],
 "metadata": {
  "interpreter": {
   "hash": "e0d091042142f08f95fbe24eea5f30d9f84a0503ed0a5ab9d4f63f212faef8cd"
  },
  "kernelspec": {
   "display_name": "Python 3.10.1 64-bit",
   "language": "python",
   "name": "python3"
  },
  "language_info": {
   "codemirror_mode": {
    "name": "ipython",
    "version": 3
   },
   "file_extension": ".py",
   "mimetype": "text/x-python",
   "name": "python",
   "nbconvert_exporter": "python",
   "pygments_lexer": "ipython3",
   "version": "3.10.1"
  },
  "orig_nbformat": 4
 },
 "nbformat": 4,
 "nbformat_minor": 2
}
